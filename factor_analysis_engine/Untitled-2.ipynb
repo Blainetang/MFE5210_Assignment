{
 "cells": [
  {
   "cell_type": "code",
   "execution_count": 1,
   "metadata": {},
   "outputs": [],
   "source": [
    "import numpy as np\n",
    "import pandas as pd\n",
    "\n",
    "def cumulative_returns(returns, period):\n",
    "    \"\"\"\n",
    "    从'N 期'因子远期收益率构建累积收益\n",
    "    当 'period' N 大于 1 时, 建立平均 N 个交错的投资组合 (在随后的时段 1,2,3，...，N 开始),\n",
    "    每个 N 个周期重新调仓, 最后计算 N 个投资组合累积收益的均值。\n",
    "\n",
    "    参数\n",
    "    ----------\n",
    "    returns: pd.Series\n",
    "        N 期因子远期收益序列\n",
    "    period: integer\n",
    "        对应的因子远期收益时间跨度\n",
    "\n",
    "    返回值\n",
    "    -------\n",
    "    pd.Series\n",
    "        累积收益序列\n",
    "    \"\"\"\n",
    "\n",
    "    returns = returns.fillna(0)\n",
    "\n",
    "    if period == 1:\n",
    "        return returns.add(1).cumprod()\n",
    "    #\n",
    "    # 构建 N 个交错的投资组合\n",
    "    #\n",
    "\n",
    "    def split_portfolio(ret, period):\n",
    "        return pd.DataFrame(np.diag(ret))\n",
    "\n",
    "    sub_portfolios = returns.groupby(\n",
    "        np.arange(len(returns.index)) // period, axis=0\n",
    "    ).apply(split_portfolio, period)\n",
    "    sub_portfolios.index = returns.index\n",
    "\n",
    "    #\n",
    "    # 将 N 期收益转换为 1 期收益, 方便计算累积收益\n",
    "    #\n",
    "\n",
    "    def rate_of_returns(ret, period):\n",
    "        return ((np.nansum(ret) + 1)**(1. / period)) - 1\n",
    "\n",
    "    sub_portfolios.rolling(period, min_periods=1, center=False)\\\n",
    "        .apply(rate_of_returns, False, args=(period,), kwargs=None)\n",
    "    sub_portfolios = sub_portfolios.add(1).cumprod()\n",
    "\n",
    "    #\n",
    "    # 求 N 个投资组合累积收益均值\n",
    "    #\n",
    "    return sub_portfolios.mean(axis=1)"
   ]
  },
  {
   "cell_type": "code",
   "execution_count": 13,
   "metadata": {},
   "outputs": [
    {
     "data": {
      "text/plain": [
       "0       1.025489\n",
       "1       1.069288\n",
       "2       1.139523\n",
       "3       1.250999\n",
       "4       1.304931\n",
       "         ...    \n",
       "95     92.475169\n",
       "96     93.725127\n",
       "97    100.823688\n",
       "98    103.724100\n",
       "99    112.537301\n",
       "Length: 100, dtype: float64"
      ]
     },
     "execution_count": 13,
     "metadata": {},
     "output_type": "execute_result"
    }
   ],
   "source": [
    "rets = pd.Series(np.random.rand(100)*0.1)\n",
    "cumulative_returns(rets,1)"
   ]
  },
  {
   "cell_type": "code",
   "execution_count": null,
   "metadata": {},
   "outputs": [],
   "source": []
  }
 ],
 "metadata": {
  "kernelspec": {
   "display_name": "ricequant",
   "language": "python",
   "name": "python3"
  },
  "language_info": {
   "codemirror_mode": {
    "name": "ipython",
    "version": 3
   },
   "file_extension": ".py",
   "mimetype": "text/x-python",
   "name": "python",
   "nbconvert_exporter": "python",
   "pygments_lexer": "ipython3",
   "version": "3.8.18"
  }
 },
 "nbformat": 4,
 "nbformat_minor": 2
}
